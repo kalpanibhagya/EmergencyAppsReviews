{
 "cells": [
  {
   "cell_type": "code",
   "execution_count": 1,
   "id": "747f8d58",
   "metadata": {
    "scrolled": true
   },
   "outputs": [],
   "source": [
    "from nltk.corpus import wordnet as wn"
   ]
  },
  {
   "cell_type": "code",
   "execution_count": 8,
   "id": "0893a583",
   "metadata": {},
   "outputs": [],
   "source": [
    "def findSynonyms(indicator):\n",
    "    synonyms = []\n",
    "    Synset = wn.synsets(indicator)\n",
    "\n",
    "    for syns in Synset:\n",
    "        for word in syns.lemmas():\n",
    "            synonyms.append(word.name())\n",
    "        \n",
    "    return synonyms\n",
    "    \n",
    "\n",
    "def findHyponyms(indicator):\n",
    "    hyponyms = []\n",
    "    Synset = wn.synsets(indicator)\n",
    "\n",
    "    for hs in Synset:\n",
    "        hyponym_synset = hs.hyponyms()\n",
    "        \n",
    "        hyponyms = sorted(lemma.name() for synset in hyponym_synset for lemma in synset.lemmas())\n",
    "        \n",
    "    return hyponyms\n",
    "\n",
    "def findHypernyms(indicator):\n",
    "    hypernyms = []\n",
    "    Synset = wn.synsets(indicator)\n",
    "\n",
    "    for hs in Synset:\n",
    "        hypernym_synset = hs.hypernyms()\n",
    "        \n",
    "        hypernyms = sorted(lemma.name() for synset in hypernym_synset for lemma in synset.lemmas())\n",
    "        \n",
    "    return hypernyms"
   ]
  },
  {
   "cell_type": "code",
   "execution_count": 9,
   "id": "c8004815",
   "metadata": {},
   "outputs": [
    {
     "name": "stdout",
     "output_type": "stream",
     "text": [
      "Synonyms\n",
      "\n",
      "Synonyms for satisfied: ['satisfy', 'fulfill', 'fulfil', 'live_up_to', 'satisfy', 'gratify', 'meet', 'satisfy', 'fill', 'fulfill', 'fulfil', 'satisfied', 'quenched', 'satisfied', 'slaked']\n",
      "\n",
      "Synonyms for useful: ['useful', 'utile', 'utilitarian', 'useful']\n",
      "\n",
      "Synonyms for fulfill: ['carry_through', 'accomplish', 'execute', 'carry_out', 'action', 'fulfill', 'fulfil', 'satisfy', 'fulfill', 'fulfil', 'live_up_to', 'meet', 'satisfy', 'fill', 'fulfill', 'fulfil']\n",
      "\n",
      "Synonyms for gratify: ['satisfy', 'gratify', 'gratify', 'pander', 'indulge']\n",
      "\n",
      "Synonyms for meet: ['meet', 'sports_meeting', 'meet', 'run_into', 'encounter', 'run_across', 'come_across', 'see', 'meet', 'get_together', 'converge', 'meet', 'meet', 'satisfy', 'fill', 'fulfill', 'fulfil', 'meet', 'fit', 'conform_to', 'meet', 'match', 'cope_with', 'meet', 'gather', 'assemble', 'forgather', 'foregather', 'meet', 'meet', 'meet', 'encounter', 'play', 'take_on', 'meet', 'encounter', 'receive', 'suffer', 'meet', 'touch', 'adjoin', 'meet', 'contact', 'fitting', 'meet']\n",
      "\n",
      "Synonyms for beneficial: ['beneficial', 'good']\n",
      "\n",
      "Synonyms for content: ['content', 'message', 'content', 'subject_matter', 'substance', 'content', 'capacity', 'content', 'content', 'cognitive_content', 'mental_object', 'contentedness', 'content', 'subject', 'content', 'depicted_object', 'content', 'content', 'contented', 'content']\n",
      "\n",
      "Synonyms for happy: ['happy', 'felicitous', 'happy', 'glad', 'happy', 'happy', 'well-chosen']\n",
      "\n",
      "Synonyms for appeasement: ['appeasement', 'calming']\n",
      "\n",
      "Hyponyms\n",
      "\n",
      "Hyponyms for satisfied: []\n",
      "\n",
      "Hyponyms for useful: []\n",
      "\n",
      "Hyponyms for fulfill: ['allay', 'answer', 'appease', 'assuage', 'feed_on', 'feed_upon', 'quell', 'quench', 'slake', 'stay']\n",
      "\n",
      "Hyponyms for gratify: ['humor', 'humour', \"sow_one's_oats\", \"sow_one's_wild_oats\", 'spree']\n",
      "\n",
      "Hyponyms for meet: []\n",
      "\n",
      "Hyponyms for beneficial: []\n",
      "\n",
      "Hyponyms for content: []\n",
      "\n",
      "Hyponyms for happy: []\n",
      "\n",
      "Hyponyms for appeasement: ['conciliation', 'mollification', 'pacification', 'placation', 'propitiation']\n",
      "\n"
     ]
    }
   ],
   "source": [
    "keywords = 'satisfied', 'useful', 'fulfill', 'gratify', 'meet', 'beneficial', 'content', 'happy', 'appeasement' \n",
    "synonyms = []\n",
    "hyponyms = []\n",
    "hypernyms = []\n",
    "\n",
    "print(\"Synonyms\\n\")\n",
    "\n",
    "for word in keywords:\n",
    "    wordset = findSynonyms(word)\n",
    "    print(\"Synonyms for \" + word + \":\" , str(wordset) + \"\\n\")\n",
    "    \n",
    "print(\"Hyponyms\\n\")\n",
    "for word in keywords:\n",
    "    wordset = findHyponyms(word)\n",
    "    print(\"Hyponyms for \" + word + \":\" , str(wordset) + \"\\n\")\n",
    "    \n",
    "print(\"Hypernyms\\n\")\n",
    "for word in keywords:\n",
    "    wordset = findHypernyms(word)\n",
    "    print(\"Hyponyms for \" + word + \":\" , str(wordset) + \"\\n\")"
   ]
  },
  {
   "cell_type": "code",
   "execution_count": null,
   "id": "60c525a7",
   "metadata": {},
   "outputs": [],
   "source": []
  }
 ],
 "metadata": {
  "kernelspec": {
   "display_name": "Python 3 (ipykernel)",
   "language": "python",
   "name": "python3"
  },
  "language_info": {
   "codemirror_mode": {
    "name": "ipython",
    "version": 3
   },
   "file_extension": ".py",
   "mimetype": "text/x-python",
   "name": "python",
   "nbconvert_exporter": "python",
   "pygments_lexer": "ipython3",
   "version": "3.10.7"
  }
 },
 "nbformat": 4,
 "nbformat_minor": 5
}
