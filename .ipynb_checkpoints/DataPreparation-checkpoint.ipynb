{
 "cells": [
  {
   "cell_type": "markdown",
   "metadata": {},
   "source": [
    "# Project 17: Analysis of Online Reviews of Emergency apps using NLP and Technology Acceptance Models (TAM)."
   ]
  },
  {
   "cell_type": "markdown",
   "metadata": {
    "id": "HLjeeMhhPogG"
   },
   "source": [
    "In this project, we collect online reviews from Apple and Google Play stores from two emergency apps(Emergency Plus , First Aid: American Red Cross), to understand how users react to them."
   ]
  },
  {
   "cell_type": "markdown",
   "metadata": {},
   "source": [
    "## Task 1 and Task 2 : Preprocessing"
   ]
  },
  {
   "cell_type": "code",
   "execution_count": null,
   "metadata": {},
   "outputs": [
    {
     "name": "stderr",
     "output_type": "stream",
     "text": [
      "C:\\Users\\Kalpani Ranasinghe\\AppData\\Local\\Temp\\ipykernel_1432\\2253289219.py:21: FutureWarning: The default value of regex will change from True to False in a future version. In addition, single character regular expressions will *not* be treated as literal strings when regex=True.\n",
      "  reviews_dataframe['Review'].str.replace('|', '')\n"
     ]
    }
   ],
   "source": [
    "from google_play_scraper import reviews_all\n",
    "import pandas as pd\n",
    "from deep_translator import GoogleTranslator\n",
    "from app_store_scraper import AppStore\n",
    "import numpy as np\n",
    "\n",
    "df_emergencyplus_google = pd.DataFrame()\n",
    "df_emergencyplus_apple = pd.DataFrame()\n",
    "\n",
    "df_firstaid_google = pd.DataFrame()\n",
    "df_firstaid_apple = pd.DataFrame()\n",
    "\n",
    "df_emergencyplus_combined = pd.DataFrame()\n",
    "df_firstaid_combined = pd.DataFrame()\n",
    "\n",
    "def PrepareDataForTranslation(reviews_dataframe):\n",
    "    global valueToFillForEmptyReviews\n",
    "    valueToFillForEmptyReviews = \"No review Comment\"\n",
    "    splitCount =400;\n",
    "    reviews_dataframe['Review'] = reviews_dataframe['Review'].fillna(valueToFillForEmptyReviews)\n",
    "    reviews_dataframe['Review'].str.replace('|', '')\n",
    "    if(len(reviews_dataframe)< 400):\n",
    "        splitCount=len(reviews_dataframe)\n",
    "\n",
    "    return np.array_split(reviews_dataframe, splitCount)\n",
    "\n",
    "def TranslationMechanism(splittedReview):\n",
    "    concatednatedReviewString = \"|\".join(splittedReviewList['Review'])\n",
    "    if (len(concatednatedReviewString)>5000):\n",
    "        return;\n",
    "\n",
    "def TranslateReviewContent(splittedReviewList):\n",
    "    translatedReviews =[]\n",
    "    concatednatedReviewString=\"\"\n",
    "    for i in range(len(splittedReviewList)):\n",
    "        concatednatedReviewString = \"|\".join(splittedReviewList[i]['Review'])\n",
    "        translatedValue = translator.translate(concatednatedReviewString, dest='en')\n",
    "        x= translatedValue.split(\"|\")\n",
    "        translatedReviews = translatedReviews + x\n",
    "    return translatedReviews\n",
    "\n",
    "emergencyApps = [{'appName': 'Emergency Plus','googleId': 'com.threesixtyentertainment.nesn', 'googleLanguage': 'en', 'googleCountry': 'us', \n",
    "                                    'appStoreName':'emergency-plus','appleAppId' : '691814685', 'appleCountry': 'au'},\n",
    "                  {'appName': 'Red Cross First Aid','googleId': 'com.cube.arc.fa', 'googleLanguage': 'en', 'googleCountry': 'us', \n",
    "                                    'appStoreName':'first-aid-american-red-cross','appleAppId' : '529160691', 'appleCountry': 'us'}\n",
    "]\n",
    "\n",
    "headers = [\"User Name\" ,\"Review\",\"Rating\", \"Date of Review\", \"reviewCreatedVersion\"] \n",
    "headers_a = [\"User Name\" ,\"Review\",\"Rating\", \"Date of Review\"] \n",
    "\n",
    "translator = GoogleTranslator(source='auto', target='en')\n",
    "\n",
    "for app in emergencyApps: \n",
    "  \n",
    "    googleReviewResult = reviews_all( app['googleId'], \n",
    "                       lang= app['googleLanguage'], \n",
    "                       country=app['googleCountry'], \n",
    "                       )\n",
    "\n",
    "    googleAppReviewsdf = pd.DataFrame(googleReviewResult)\n",
    "    googleAppReviewsdf.rename(columns = {'reviewId':'Review Id','userName':'User Name', 'content':'Review', 'score':'Rating', 'at':'Date of Review'}, inplace = True)\n",
    "    splittedReviewList = PrepareDataForTranslation(googleAppReviewsdf)\n",
    "    googleAppReviewsdf['Review'] = TranslateReviewContent(splittedReviewList);\n",
    "    googleAppReviewsdf['Review'].replace([valueToFillForEmptyReviews], '')\n",
    "    googleAppReviewsdf.rename(columns = {'reviewId':'Review Id','userName':'User Name', 'content':'Review', 'score':'Rating', 'at':'Date of Review'}, inplace = True)\n",
    "    googleAppReviewsdf = googleAppReviewsdf[headers]\n",
    "    \n",
    "    appleApp = AppStore(app_name=app['appStoreName'], app_id = app['appleAppId'], country=app['appleCountry'])\n",
    "    appleApp.review(how_many=2000)\n",
    "    appleAppReviewsdf = pd.DataFrame(appleApp.reviews)\n",
    "    appleAppReviewsdf.dropna(how='all')\n",
    "    appleAppReviewsdf.rename(columns = {'userName':'User Name', 'review':'Review', 'rating':'Rating', 'date':'Date of Review'}, inplace = True)\n",
    "    splittedAppleReviewList = PrepareDataForTranslation(appleAppReviewsdf)\n",
    "    appleAppReviewsdf['Review'] = TranslateReviewContent(splittedAppleReviewList);\n",
    "    appleAppReviewsdf = appleAppReviewsdf[headers_a]\n",
    "    \n",
    "    googleAppReviewsdf['Review'].replace([valueToFillForEmptyReviews], '')\n",
    "\n",
    "    combinedReviewsdf = pd.concat([googleAppReviewsdf, appleAppReviewsdf])\n",
    "    combinedReviewsdf['Date of Review'] = combinedReviewsdf['Date of Review'].dt.date\n",
    "    \n",
    "    if(app['appName'] ==\"Emergency Plus\"):\n",
    "        df_emergencyplus_google = googleAppReviewsdf\n",
    "        df_emergencyplus_apple = appleAppReviewsdf\n",
    "        df_emergencyplus_combined = combinedReviewsdf\n",
    "    elif(app['appName'] ==\"Red Cross First Aid\"):\n",
    "        df_firstaid_google = googleAppReviewsdf\n",
    "        df_firstaid_apple = appleAppReviewsdf\n",
    "        df_firstaid_combined = combinedReviewsdf\n",
    "    \n",
    "    combinedReviewsdf.to_csv(app['appName']+'.csv', index=None, columns = headers, header=True)\n",
    "    print(app['appName']+\".csv file is created sucessfully. Check the files folder in left side bar. If you can't see yet refresh the folder.\")"
   ]
  }
 ],
 "metadata": {
  "colab": {
   "collapsed_sections": [],
   "provenance": []
  },
  "kernelspec": {
   "display_name": "Python 3 (ipykernel)",
   "language": "python",
   "name": "python3"
  },
  "language_info": {
   "codemirror_mode": {
    "name": "ipython",
    "version": 3
   },
   "file_extension": ".py",
   "mimetype": "text/x-python",
   "name": "python",
   "nbconvert_exporter": "python",
   "pygments_lexer": "ipython3",
   "version": "3.10.7"
  }
 },
 "nbformat": 4,
 "nbformat_minor": 1
}
