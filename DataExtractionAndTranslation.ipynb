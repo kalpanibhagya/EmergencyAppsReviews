{
  "nbformat": 4,
  "nbformat_minor": 0,
  "metadata": {
    "colab": {
      "provenance": [],
      "authorship_tag": "ABX9TyMsX0LeMqnqtJ1W7PMr3Jlg",
      "include_colab_link": true
    },
    "kernelspec": {
      "name": "python3",
      "display_name": "Python 3"
    },
    "language_info": {
      "name": "python"
    }
  },
  "cells": [
    {
      "cell_type": "markdown",
      "metadata": {
        "id": "view-in-github",
        "colab_type": "text"
      },
      "source": [
        "<a href=\"https://colab.research.google.com/github/kalpanibhagya/EmergencyAppsReviews/blob/datafileseparation/DataExtractionAndTranslation.ipynb\" target=\"_parent\"><img src=\"https://colab.research.google.com/assets/colab-badge.svg\" alt=\"Open In Colab\"/></a>"
      ]
    },
    {
      "cell_type": "markdown",
      "source": [
        "**Project 17: Analysis of Online Reviews of Emergency apps using NLP and Technology Acceptance Models (TAM).**\n",
        "\n",
        "In this project, we collect online reviews from Apple and Google Play stores from two emergency apps(Emergency Plus , First Aid: American Red Cross), to understand how users react to them.\n",
        "\n",
        "**Task 1 and Task 2 : Preprocessing**\n",
        "\n",
        "**Important Note :**\n",
        "\n",
        "**Run this file in Google Co labs.**\n",
        "\n",
        "Because there might be issues come in when running in jupyter notebook. The code is perfectly working in co labs\n",
        "\n",
        "Result csv files can be found in files folder in the left side bar.\n",
        "\n",
        "You can find already extracted CSV files for each app from .data/Task 1/Result folder in project repository taken from github."
      ],
      "metadata": {
        "id": "dq71UuF5nSCY"
      }
    },
    {
      "cell_type": "code",
      "source": [
        "pip install google_play_scraper"
      ],
      "metadata": {
        "colab": {
          "base_uri": "https://localhost:8080/"
        },
        "id": "NaoOPS0JfLs4",
        "outputId": "5408b0fd-d4c8-41af-a543-81b6464279e3"
      },
      "execution_count": 1,
      "outputs": [
        {
          "output_type": "stream",
          "name": "stdout",
          "text": [
            "Looking in indexes: https://pypi.org/simple, https://us-python.pkg.dev/colab-wheels/public/simple/\n",
            "Collecting google_play_scraper\n",
            "  Downloading google_play_scraper-1.2.2-py3-none-any.whl (28 kB)\n",
            "Installing collected packages: google-play-scraper\n",
            "Successfully installed google-play-scraper-1.2.2\n"
          ]
        }
      ]
    },
    {
      "cell_type": "code",
      "source": [
        "pip install app_store_scraper"
      ],
      "metadata": {
        "colab": {
          "base_uri": "https://localhost:8080/"
        },
        "id": "nYtGuE2wfgUr",
        "outputId": "21f55aea-a2ba-43e1-cac2-8974a13af7e2"
      },
      "execution_count": 2,
      "outputs": [
        {
          "output_type": "stream",
          "name": "stdout",
          "text": [
            "Looking in indexes: https://pypi.org/simple, https://us-python.pkg.dev/colab-wheels/public/simple/\n",
            "Collecting app_store_scraper\n",
            "  Downloading app_store_scraper-0.3.5-py3-none-any.whl (8.3 kB)\n",
            "Requirement already satisfied: requests==2.23.0 in /usr/local/lib/python3.7/dist-packages (from app_store_scraper) (2.23.0)\n",
            "Requirement already satisfied: urllib3!=1.25.0,!=1.25.1,<1.26,>=1.21.1 in /usr/local/lib/python3.7/dist-packages (from requests==2.23.0->app_store_scraper) (1.24.3)\n",
            "Requirement already satisfied: certifi>=2017.4.17 in /usr/local/lib/python3.7/dist-packages (from requests==2.23.0->app_store_scraper) (2022.9.24)\n",
            "Requirement already satisfied: idna<3,>=2.5 in /usr/local/lib/python3.7/dist-packages (from requests==2.23.0->app_store_scraper) (2.10)\n",
            "Requirement already satisfied: chardet<4,>=3.0.2 in /usr/local/lib/python3.7/dist-packages (from requests==2.23.0->app_store_scraper) (3.0.4)\n",
            "Installing collected packages: app-store-scraper\n",
            "Successfully installed app-store-scraper-0.3.5\n"
          ]
        }
      ]
    },
    {
      "cell_type": "code",
      "source": [
        "pip install -U deep-translator"
      ],
      "metadata": {
        "colab": {
          "base_uri": "https://localhost:8080/"
        },
        "id": "84zBs5npfkGD",
        "outputId": "46accc7f-e8e9-4eb9-d807-be5b4dada1e2"
      },
      "execution_count": 3,
      "outputs": [
        {
          "output_type": "stream",
          "name": "stdout",
          "text": [
            "Looking in indexes: https://pypi.org/simple, https://us-python.pkg.dev/colab-wheels/public/simple/\n",
            "Collecting deep-translator\n",
            "  Downloading deep_translator-1.9.1-py3-none-any.whl (30 kB)\n",
            "Requirement already satisfied: requests<3.0.0,>=2.23.0 in /usr/local/lib/python3.7/dist-packages (from deep-translator) (2.23.0)\n",
            "Collecting beautifulsoup4<5.0.0,>=4.9.1\n",
            "  Downloading beautifulsoup4-4.11.1-py3-none-any.whl (128 kB)\n",
            "\u001b[K     |████████████████████████████████| 128 kB 8.3 MB/s \n",
            "\u001b[?25hCollecting soupsieve>1.2\n",
            "  Downloading soupsieve-2.3.2.post1-py3-none-any.whl (37 kB)\n",
            "Requirement already satisfied: urllib3!=1.25.0,!=1.25.1,<1.26,>=1.21.1 in /usr/local/lib/python3.7/dist-packages (from requests<3.0.0,>=2.23.0->deep-translator) (1.24.3)\n",
            "Requirement already satisfied: chardet<4,>=3.0.2 in /usr/local/lib/python3.7/dist-packages (from requests<3.0.0,>=2.23.0->deep-translator) (3.0.4)\n",
            "Requirement already satisfied: idna<3,>=2.5 in /usr/local/lib/python3.7/dist-packages (from requests<3.0.0,>=2.23.0->deep-translator) (2.10)\n",
            "Requirement already satisfied: certifi>=2017.4.17 in /usr/local/lib/python3.7/dist-packages (from requests<3.0.0,>=2.23.0->deep-translator) (2022.9.24)\n",
            "Installing collected packages: soupsieve, beautifulsoup4, deep-translator\n",
            "  Attempting uninstall: beautifulsoup4\n",
            "    Found existing installation: beautifulsoup4 4.6.3\n",
            "    Uninstalling beautifulsoup4-4.6.3:\n",
            "      Successfully uninstalled beautifulsoup4-4.6.3\n",
            "Successfully installed beautifulsoup4-4.11.1 deep-translator-1.9.1 soupsieve-2.3.2.post1\n"
          ]
        }
      ]
    },
    {
      "cell_type": "code",
      "source": [
        "from google_play_scraper import reviews_all\n",
        "import pandas as pd\n",
        "from deep_translator import GoogleTranslator\n",
        "from app_store_scraper import AppStore\n",
        "import numpy as np\n",
        "\n",
        "def PrepareDataForTranslation(reviews_dataframe):\n",
        "  global valueToFillForEmptyReviews\n",
        "  valueToFillForEmptyReviews = \"No review Comment\"\n",
        "  reviews_dataframe['Review'] = reviews_dataframe['Review'].fillna(valueToFillForEmptyReviews)\n",
        "  reviews_dataframe['Review'].str.replace('|', '')\n",
        "\n",
        "  splittedArray =[]\n",
        "  characterLength =0\n",
        "  arrayChunk =[]\n",
        "  for i in range(len( reviews_dataframe['Review'])):\n",
        "    characterLength = characterLength + len(reviews_dataframe['Review'][i])\n",
        "                                            \n",
        "    if characterLength > 3000 :\n",
        "        splittedArray.append(arrayChunk)\n",
        "        arrayChunk =[]\n",
        "        characterLength= len(reviews_dataframe['Review'][i])\n",
        "        arrayChunk.append(reviews_dataframe['Review'][i])\n",
        "                             \n",
        "    else:\n",
        "      arrayChunk.append(reviews_dataframe['Review'][i])\n",
        "\n",
        "    if i == len(reviews_dataframe['Review'])-1 :\n",
        "       splittedArray.append(arrayChunk)\n",
        "   \n",
        "  return splittedArray\n",
        "\n",
        "\n",
        "def TranslateReviewContent(splittedReviewList):\n",
        "  translatedReviews =[]\n",
        "  concatednatedReviewString=\"\"\n",
        "  for i in range(len(splittedReviewList)):\n",
        "     concatednatedReviewString = \"|\".join(splittedReviewList[i])\n",
        "     translatedValue = translator.translate(concatednatedReviewString, dest='en')\n",
        "     splittedTranslatedContent= translatedValue.split(\"|\")\n",
        "     translatedReviews = translatedReviews + splittedTranslatedContent\n",
        "  return translatedReviews\n",
        "\n",
        "\n",
        "def ExtractAndTranslateGoogleReviews(app):\n",
        "  googleReviewResult = reviews_all( app['googleId'], \n",
        "                       lang= app['googleLanguage'], \n",
        "                       country=app['googleCountry'], \n",
        "                       )\n",
        "\n",
        "  googleAppReviewsdf = pd.DataFrame(googleReviewResult)\n",
        "  googleAppReviewsdf.rename(columns = {'reviewId':'Review Id','userName':'User Name', 'content':'Review', 'score':'Rating', 'at':'Date of Review'}, inplace = True)\n",
        "  splittedReviewList = PrepareDataForTranslation(googleAppReviewsdf)\n",
        "  googleAppReviewsdf['Review'] = TranslateReviewContent(splittedReviewList);\n",
        "  googleAppReviewsdf['Review'].replace([valueToFillForEmptyReviews], '')\n",
        "  return googleAppReviewsdf\n",
        "\n",
        "def ExtractAndTranslateAppleReviews(app):\n",
        "  appleApp = AppStore(app_name=app['appStoreName'], app_id = app['appleAppId'], country=app['appleCountry'])\n",
        "  appleApp.review(how_many=2000)\n",
        "  appleAppReviewsdf = pd.DataFrame(appleApp.reviews)\n",
        "  appleAppReviewsdf.dropna(how='all')\n",
        "  appleAppReviewsdf.rename(columns = {'userName':'User Name', 'review':'Review', 'rating':'Rating', 'date':'Date of Review'}, inplace = True)\n",
        "  splittedAppleReviewList = PrepareDataForTranslation(appleAppReviewsdf)\n",
        "  appleAppReviewsdf['Review'] = TranslateReviewContent(splittedAppleReviewList);\n",
        "  appleAppReviewsdf['Review'].replace([valueToFillForEmptyReviews], '')\n",
        "  return appleAppReviewsdf\n",
        "\n",
        "\n",
        "\n",
        "\n",
        "\n",
        "emergencyApps = [{'appName': 'Emergency Plus','googleId': 'com.threesixtyentertainment.nesn', 'googleLanguage': 'en', 'googleCountry': 'us', \n",
        "                                    'appStoreName':'emergency-plus','appleAppId' : '691814685', 'appleCountry': 'au'},\n",
        "                  {'appName': 'Red Cross First Aid','googleId': 'com.cube.arc.fa', 'googleLanguage': 'en', 'googleCountry': 'us', \n",
        "                                    'appStoreName':'first-aid-american-red-cross','appleAppId' : '529160691', 'appleCountry': 'us'}\n",
        "]\n",
        "\n",
        "headers = [\"Review Id\", \"User Name\" ,\"Review\",\"Rating\", \"Date of Review\", \"reviewCreatedVersion\"] \n",
        "translator = GoogleTranslator(source='auto', target='en')\n",
        "\n",
        "for app in emergencyApps: \n",
        "  \n",
        "  googleAppReviewsdf = ExtractAndTranslateGoogleReviews(app)\n",
        "  appleAppReviewsdf = ExtractAndTranslateAppleReviews(app)\n",
        "\n",
        "  combinedReviewsdf = pd.concat([googleAppReviewsdf, appleAppReviewsdf])\n",
        "  combinedReviewsdf['Date of Review'] = combinedReviewsdf['Date of Review'].dt.date\n",
        "  combinedReviewsdf.to_csv(app['appName']+'.csv', index=None, columns = headers, header=True)\n",
        "\n",
        "  print(app['appName']+\".csv file is created sucessfully. Check the files folder in left side bar. If you can't see yet refresh the folder.\")"
      ],
      "metadata": {
        "colab": {
          "base_uri": "https://localhost:8080/"
        },
        "id": "AVqX9nn1oKLM",
        "outputId": "ada8d10a-e67b-41eb-8510-b5295b7f952d"
      },
      "execution_count": 5,
      "outputs": [
        {
          "output_type": "stream",
          "name": "stderr",
          "text": [
            "/usr/local/lib/python3.7/dist-packages/ipykernel_launcher.py:11: FutureWarning: The default value of regex will change from True to False in a future version. In addition, single character regular expressions will *not* be treated as literal strings when regex=True.\n",
            "  # This is added back by InteractiveShellApp.init_path()\n"
          ]
        },
        {
          "output_type": "stream",
          "name": "stdout",
          "text": [
            "Emergency Plus.csv file is created sucessfully. Check the files folder in left side bar. If you can't see yet refresh the folder.\n",
            "Red Cross First Aid.csv file is created sucessfully. Check the files folder in left side bar. If you can't see yet refresh the folder.\n"
          ]
        }
      ]
    }
  ]
}