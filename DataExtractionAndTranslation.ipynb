{
 "cells": [
  {
   "cell_type": "markdown",
   "metadata": {
    "id": "dq71UuF5nSCY"
   },
   "source": [
    "**Project 17: Analysis of Online Reviews of Emergency apps using NLP and Technology Acceptance Models (TAM).**\n",
    "\n",
    "In this project, we collect online reviews from Apple and Google Play stores from two emergency apps(Emergency Plus , First Aid: American Red Cross), to understand how users react to them.\n",
    "\n",
    "**Task 1 and Task 2 : Preprocessing**"
   ]
  },
  {
   "cell_type": "code",
   "execution_count": 2,
   "metadata": {
    "colab": {
     "base_uri": "https://localhost:8080/"
    },
    "id": "AVqX9nn1oKLM",
    "outputId": "15884a38-adc3-4c41-9ca9-88121b84f14f"
   },
   "outputs": [
    {
     "name": "stderr",
     "output_type": "stream",
     "text": [
      "C:\\Users\\Sasini\\AppData\\Local\\Temp\\ipykernel_10028\\3061472037.py:11: FutureWarning: The default value of regex will change from True to False in a future version. In addition, single character regular expressions will *not* be treated as literal strings when regex=True.\n",
      "  reviews_dataframe['Review'].str.replace('|', '')\n",
      "2022-11-06 13:53:28,517 [INFO] Base - Initialised: AppStore('au', 'emergency-plus', 691814685)\n",
      "2022-11-06 13:53:28,518 [INFO] Base - Ready to fetch reviews from: https://apps.apple.com/au/app/emergency-plus/id691814685\n",
      "2022-11-06 13:53:29,513 [INFO] Base - [id:691814685] Fetched 201 reviews (201 fetched in total)\n",
      "C:\\Users\\Sasini\\AppData\\Local\\Temp\\ipykernel_10028\\3061472037.py:11: FutureWarning: The default value of regex will change from True to False in a future version. In addition, single character regular expressions will *not* be treated as literal strings when regex=True.\n",
      "  reviews_dataframe['Review'].str.replace('|', '')\n"
     ]
    },
    {
     "name": "stdout",
     "output_type": "stream",
     "text": [
      "Emergency Plus.csv file is created sucessfully. Check the location data/Task 1/Result\n"
     ]
    },
    {
     "ename": "IncompleteRead",
     "evalue": "IncompleteRead(0 bytes read)",
     "output_type": "error",
     "traceback": [
      "\u001b[1;31m---------------------------------------------------------------------------\u001b[0m",
      "\u001b[1;31mIncompleteRead\u001b[0m                            Traceback (most recent call last)",
      "File \u001b[1;32m~\\AppData\\Local\\Programs\\Python\\Python310\\lib\\http\\client.py:591\u001b[0m, in \u001b[0;36mHTTPResponse._read_chunked\u001b[1;34m(self, amt)\u001b[0m\n\u001b[0;32m    589\u001b[0m     \u001b[38;5;28;01mbreak\u001b[39;00m\n\u001b[1;32m--> 591\u001b[0m value\u001b[38;5;241m.\u001b[39mappend(\u001b[38;5;28;43mself\u001b[39;49m\u001b[38;5;241;43m.\u001b[39;49m\u001b[43m_safe_read\u001b[49m\u001b[43m(\u001b[49m\u001b[43mchunk_left\u001b[49m\u001b[43m)\u001b[49m)\n\u001b[0;32m    592\u001b[0m \u001b[38;5;28;01mif\u001b[39;00m amt \u001b[38;5;129;01mis\u001b[39;00m \u001b[38;5;129;01mnot\u001b[39;00m \u001b[38;5;28;01mNone\u001b[39;00m:\n",
      "File \u001b[1;32m~\\AppData\\Local\\Programs\\Python\\Python310\\lib\\http\\client.py:632\u001b[0m, in \u001b[0;36mHTTPResponse._safe_read\u001b[1;34m(self, amt)\u001b[0m\n\u001b[0;32m    631\u001b[0m \u001b[38;5;28;01mif\u001b[39;00m \u001b[38;5;28mlen\u001b[39m(data) \u001b[38;5;241m<\u001b[39m amt:\n\u001b[1;32m--> 632\u001b[0m     \u001b[38;5;28;01mraise\u001b[39;00m IncompleteRead(data, amt\u001b[38;5;241m-\u001b[39m\u001b[38;5;28mlen\u001b[39m(data))\n\u001b[0;32m    633\u001b[0m \u001b[38;5;28;01mreturn\u001b[39;00m data\n",
      "\u001b[1;31mIncompleteRead\u001b[0m: IncompleteRead(14522 bytes read, 18246 more expected)",
      "\nDuring handling of the above exception, another exception occurred:\n",
      "\u001b[1;31mIncompleteRead\u001b[0m                            Traceback (most recent call last)",
      "Cell \u001b[1;32mIn [2], line 84\u001b[0m\n\u001b[0;32m     80\u001b[0m translator \u001b[38;5;241m=\u001b[39m GoogleTranslator(source\u001b[38;5;241m=\u001b[39m\u001b[38;5;124m'\u001b[39m\u001b[38;5;124mauto\u001b[39m\u001b[38;5;124m'\u001b[39m, target\u001b[38;5;241m=\u001b[39m\u001b[38;5;124m'\u001b[39m\u001b[38;5;124men\u001b[39m\u001b[38;5;124m'\u001b[39m)\n\u001b[0;32m     82\u001b[0m \u001b[38;5;28;01mfor\u001b[39;00m app \u001b[38;5;129;01min\u001b[39;00m emergencyApps: \n\u001b[1;32m---> 84\u001b[0m   googleAppReviewsdf \u001b[38;5;241m=\u001b[39m \u001b[43mExtractAndTranslateGoogleReviews\u001b[49m\u001b[43m(\u001b[49m\u001b[43mapp\u001b[49m\u001b[43m)\u001b[49m\n\u001b[0;32m     85\u001b[0m   appleAppReviewsdf \u001b[38;5;241m=\u001b[39m ExtractAndTranslateAppleReviews(app)\n\u001b[0;32m     87\u001b[0m   combinedReviewsdf \u001b[38;5;241m=\u001b[39m pd\u001b[38;5;241m.\u001b[39mconcat([googleAppReviewsdf, appleAppReviewsdf])\n",
      "Cell \u001b[1;32mIn [2], line 46\u001b[0m, in \u001b[0;36mExtractAndTranslateGoogleReviews\u001b[1;34m(app)\u001b[0m\n\u001b[0;32m     45\u001b[0m \u001b[38;5;28;01mdef\u001b[39;00m \u001b[38;5;21mExtractAndTranslateGoogleReviews\u001b[39m(app):\n\u001b[1;32m---> 46\u001b[0m   googleReviewResult \u001b[38;5;241m=\u001b[39m \u001b[43mreviews_all\u001b[49m\u001b[43m(\u001b[49m\u001b[43m \u001b[49m\u001b[43mapp\u001b[49m\u001b[43m[\u001b[49m\u001b[38;5;124;43m'\u001b[39;49m\u001b[38;5;124;43mgoogleId\u001b[39;49m\u001b[38;5;124;43m'\u001b[39;49m\u001b[43m]\u001b[49m\u001b[43m,\u001b[49m\u001b[43m \u001b[49m\n\u001b[0;32m     47\u001b[0m \u001b[43m                       \u001b[49m\u001b[43mlang\u001b[49m\u001b[38;5;241;43m=\u001b[39;49m\u001b[43m \u001b[49m\u001b[43mapp\u001b[49m\u001b[43m[\u001b[49m\u001b[38;5;124;43m'\u001b[39;49m\u001b[38;5;124;43mgoogleLanguage\u001b[39;49m\u001b[38;5;124;43m'\u001b[39;49m\u001b[43m]\u001b[49m\u001b[43m,\u001b[49m\u001b[43m \u001b[49m\n\u001b[0;32m     48\u001b[0m \u001b[43m                       \u001b[49m\u001b[43mcountry\u001b[49m\u001b[38;5;241;43m=\u001b[39;49m\u001b[43mapp\u001b[49m\u001b[43m[\u001b[49m\u001b[38;5;124;43m'\u001b[39;49m\u001b[38;5;124;43mgoogleCountry\u001b[39;49m\u001b[38;5;124;43m'\u001b[39;49m\u001b[43m]\u001b[49m\u001b[43m,\u001b[49m\u001b[43m \u001b[49m\n\u001b[0;32m     49\u001b[0m \u001b[43m                       \u001b[49m\u001b[43m)\u001b[49m\n\u001b[0;32m     51\u001b[0m   googleAppReviewsdf \u001b[38;5;241m=\u001b[39m pd\u001b[38;5;241m.\u001b[39mDataFrame(googleReviewResult)\n\u001b[0;32m     52\u001b[0m   googleAppReviewsdf\u001b[38;5;241m.\u001b[39mrename(columns \u001b[38;5;241m=\u001b[39m {\u001b[38;5;124m'\u001b[39m\u001b[38;5;124mreviewId\u001b[39m\u001b[38;5;124m'\u001b[39m:\u001b[38;5;124m'\u001b[39m\u001b[38;5;124mReview Id\u001b[39m\u001b[38;5;124m'\u001b[39m,\u001b[38;5;124m'\u001b[39m\u001b[38;5;124muserName\u001b[39m\u001b[38;5;124m'\u001b[39m:\u001b[38;5;124m'\u001b[39m\u001b[38;5;124mUser Name\u001b[39m\u001b[38;5;124m'\u001b[39m, \u001b[38;5;124m'\u001b[39m\u001b[38;5;124mcontent\u001b[39m\u001b[38;5;124m'\u001b[39m:\u001b[38;5;124m'\u001b[39m\u001b[38;5;124mReview\u001b[39m\u001b[38;5;124m'\u001b[39m, \u001b[38;5;124m'\u001b[39m\u001b[38;5;124mscore\u001b[39m\u001b[38;5;124m'\u001b[39m:\u001b[38;5;124m'\u001b[39m\u001b[38;5;124mRating\u001b[39m\u001b[38;5;124m'\u001b[39m, \u001b[38;5;124m'\u001b[39m\u001b[38;5;124mat\u001b[39m\u001b[38;5;124m'\u001b[39m:\u001b[38;5;124m'\u001b[39m\u001b[38;5;124mDate of Review\u001b[39m\u001b[38;5;124m'\u001b[39m}, inplace \u001b[38;5;241m=\u001b[39m \u001b[38;5;28;01mTrue\u001b[39;00m)\n",
      "File \u001b[1;32m~\\AppData\\Local\\Programs\\Python\\Python310\\lib\\site-packages\\google_play_scraper\\features\\reviews.py:129\u001b[0m, in \u001b[0;36mreviews_all\u001b[1;34m(app_id, sleep_milliseconds, **kwargs)\u001b[0m\n\u001b[0;32m    126\u001b[0m result \u001b[38;5;241m=\u001b[39m []\n\u001b[0;32m    128\u001b[0m \u001b[38;5;28;01mwhile\u001b[39;00m \u001b[38;5;28;01mTrue\u001b[39;00m:\n\u001b[1;32m--> 129\u001b[0m     _result, continuation_token \u001b[38;5;241m=\u001b[39m reviews(\n\u001b[0;32m    130\u001b[0m         app_id,\n\u001b[0;32m    131\u001b[0m         count\u001b[38;5;241m=\u001b[39mMAX_COUNT_EACH_FETCH,\n\u001b[0;32m    132\u001b[0m         continuation_token\u001b[38;5;241m=\u001b[39mcontinuation_token,\n\u001b[0;32m    133\u001b[0m         \u001b[38;5;241m*\u001b[39m\u001b[38;5;241m*\u001b[39mkwargs\n\u001b[0;32m    134\u001b[0m     )\n\u001b[0;32m    136\u001b[0m     result \u001b[38;5;241m+\u001b[39m\u001b[38;5;241m=\u001b[39m _result\n\u001b[0;32m    138\u001b[0m     \u001b[38;5;28;01mif\u001b[39;00m continuation_token\u001b[38;5;241m.\u001b[39mtoken \u001b[38;5;129;01mis\u001b[39;00m \u001b[38;5;28;01mNone\u001b[39;00m:\n",
      "File \u001b[1;32m~\\AppData\\Local\\Programs\\Python\\Python310\\lib\\site-packages\\google_play_scraper\\features\\reviews.py:93\u001b[0m, in \u001b[0;36mreviews\u001b[1;34m(app_id, lang, country, sort, count, filter_score_with, continuation_token)\u001b[0m\n\u001b[0;32m     90\u001b[0m     _fetch_count \u001b[38;5;241m=\u001b[39m MAX_COUNT_EACH_FETCH\n\u001b[0;32m     92\u001b[0m \u001b[38;5;28;01mtry\u001b[39;00m:\n\u001b[1;32m---> 93\u001b[0m     review_items, token \u001b[38;5;241m=\u001b[39m \u001b[43m_fetch_review_items\u001b[49m\u001b[43m(\u001b[49m\n\u001b[0;32m     94\u001b[0m \u001b[43m        \u001b[49m\u001b[43murl\u001b[49m\u001b[43m,\u001b[49m\u001b[43m \u001b[49m\u001b[43mapp_id\u001b[49m\u001b[43m,\u001b[49m\u001b[43m \u001b[49m\u001b[43msort\u001b[49m\u001b[43m,\u001b[49m\u001b[43m \u001b[49m\u001b[43m_fetch_count\u001b[49m\u001b[43m,\u001b[49m\u001b[43m \u001b[49m\u001b[43mfilter_score_with\u001b[49m\u001b[43m,\u001b[49m\u001b[43m \u001b[49m\u001b[43mtoken\u001b[49m\n\u001b[0;32m     95\u001b[0m \u001b[43m    \u001b[49m\u001b[43m)\u001b[49m\n\u001b[0;32m     96\u001b[0m \u001b[38;5;28;01mexcept\u001b[39;00m (\u001b[38;5;167;01mTypeError\u001b[39;00m, \u001b[38;5;167;01mIndexError\u001b[39;00m):\n\u001b[0;32m     97\u001b[0m     token \u001b[38;5;241m=\u001b[39m \u001b[38;5;28;01mNone\u001b[39;00m\n",
      "File \u001b[1;32m~\\AppData\\Local\\Programs\\Python\\Python310\\lib\\site-packages\\google_play_scraper\\features\\reviews.py:36\u001b[0m, in \u001b[0;36m_fetch_review_items\u001b[1;34m(url, app_id, sort, count, filter_score_with, pagination_token)\u001b[0m\n\u001b[0;32m     28\u001b[0m \u001b[38;5;28;01mdef\u001b[39;00m \u001b[38;5;21m_fetch_review_items\u001b[39m(\n\u001b[0;32m     29\u001b[0m     url: \u001b[38;5;28mstr\u001b[39m,\n\u001b[0;32m     30\u001b[0m     app_id: \u001b[38;5;28mstr\u001b[39m,\n\u001b[1;32m   (...)\u001b[0m\n\u001b[0;32m     34\u001b[0m     pagination_token: Optional[\u001b[38;5;28mstr\u001b[39m],\n\u001b[0;32m     35\u001b[0m ):\n\u001b[1;32m---> 36\u001b[0m     dom \u001b[38;5;241m=\u001b[39m \u001b[43mpost\u001b[49m\u001b[43m(\u001b[49m\n\u001b[0;32m     37\u001b[0m \u001b[43m        \u001b[49m\u001b[43murl\u001b[49m\u001b[43m,\u001b[49m\n\u001b[0;32m     38\u001b[0m \u001b[43m        \u001b[49m\u001b[43mFormats\u001b[49m\u001b[38;5;241;43m.\u001b[39;49m\u001b[43mReviews\u001b[49m\u001b[38;5;241;43m.\u001b[39;49m\u001b[43mbuild_body\u001b[49m\u001b[43m(\u001b[49m\n\u001b[0;32m     39\u001b[0m \u001b[43m            \u001b[49m\u001b[43mapp_id\u001b[49m\u001b[43m,\u001b[49m\n\u001b[0;32m     40\u001b[0m \u001b[43m            \u001b[49m\u001b[43msort\u001b[49m\u001b[43m,\u001b[49m\n\u001b[0;32m     41\u001b[0m \u001b[43m            \u001b[49m\u001b[43mcount\u001b[49m\u001b[43m,\u001b[49m\n\u001b[0;32m     42\u001b[0m \u001b[43m            \u001b[49m\u001b[38;5;124;43m\"\u001b[39;49m\u001b[38;5;124;43mnull\u001b[39;49m\u001b[38;5;124;43m\"\u001b[39;49m\u001b[43m \u001b[49m\u001b[38;5;28;43;01mif\u001b[39;49;00m\u001b[43m \u001b[49m\u001b[43mfilter_score_with\u001b[49m\u001b[43m \u001b[49m\u001b[38;5;129;43;01mis\u001b[39;49;00m\u001b[43m \u001b[49m\u001b[38;5;28;43;01mNone\u001b[39;49;00m\u001b[43m \u001b[49m\u001b[38;5;28;43;01melse\u001b[39;49;00m\u001b[43m \u001b[49m\u001b[43mfilter_score_with\u001b[49m\u001b[43m,\u001b[49m\n\u001b[0;32m     43\u001b[0m \u001b[43m            \u001b[49m\u001b[43mpagination_token\u001b[49m\u001b[43m,\u001b[49m\n\u001b[0;32m     44\u001b[0m \u001b[43m        \u001b[49m\u001b[43m)\u001b[49m\u001b[43m,\u001b[49m\n\u001b[0;32m     45\u001b[0m \u001b[43m        \u001b[49m\u001b[43m{\u001b[49m\u001b[38;5;124;43m\"\u001b[39;49m\u001b[38;5;124;43mcontent-type\u001b[39;49m\u001b[38;5;124;43m\"\u001b[39;49m\u001b[43m:\u001b[49m\u001b[43m \u001b[49m\u001b[38;5;124;43m\"\u001b[39;49m\u001b[38;5;124;43mapplication/x-www-form-urlencoded\u001b[39;49m\u001b[38;5;124;43m\"\u001b[39;49m\u001b[43m}\u001b[49m\u001b[43m,\u001b[49m\n\u001b[0;32m     46\u001b[0m \u001b[43m    \u001b[49m\u001b[43m)\u001b[49m\n\u001b[0;32m     48\u001b[0m     match \u001b[38;5;241m=\u001b[39m json\u001b[38;5;241m.\u001b[39mloads(Regex\u001b[38;5;241m.\u001b[39mREVIEWS\u001b[38;5;241m.\u001b[39mfindall(dom)[\u001b[38;5;241m0\u001b[39m])\n\u001b[0;32m     50\u001b[0m     \u001b[38;5;28;01mreturn\u001b[39;00m json\u001b[38;5;241m.\u001b[39mloads(match[\u001b[38;5;241m0\u001b[39m][\u001b[38;5;241m2\u001b[39m])[\u001b[38;5;241m0\u001b[39m], json\u001b[38;5;241m.\u001b[39mloads(match[\u001b[38;5;241m0\u001b[39m][\u001b[38;5;241m2\u001b[39m])[\u001b[38;5;241m-\u001b[39m\u001b[38;5;241m1\u001b[39m][\u001b[38;5;241m-\u001b[39m\u001b[38;5;241m1\u001b[39m]\n",
      "File \u001b[1;32m~\\AppData\\Local\\Programs\\Python\\Python310\\lib\\site-packages\\google_play_scraper\\utils\\request.py:24\u001b[0m, in \u001b[0;36mpost\u001b[1;34m(url, data, headers)\u001b[0m\n\u001b[0;32m     23\u001b[0m \u001b[38;5;28;01mdef\u001b[39;00m \u001b[38;5;21mpost\u001b[39m(url: \u001b[38;5;28mstr\u001b[39m, data: Union[\u001b[38;5;28mstr\u001b[39m, \u001b[38;5;28mbytes\u001b[39m], headers: \u001b[38;5;28mdict\u001b[39m) \u001b[38;5;241m-\u001b[39m\u001b[38;5;241m>\u001b[39m \u001b[38;5;28mstr\u001b[39m:\n\u001b[1;32m---> 24\u001b[0m     \u001b[38;5;28;01mreturn\u001b[39;00m \u001b[43m_urlopen\u001b[49m\u001b[43m(\u001b[49m\u001b[43mRequest\u001b[49m\u001b[43m(\u001b[49m\u001b[43murl\u001b[49m\u001b[43m,\u001b[49m\u001b[43m \u001b[49m\u001b[43mdata\u001b[49m\u001b[38;5;241;43m=\u001b[39;49m\u001b[43mdata\u001b[49m\u001b[43m,\u001b[49m\u001b[43m \u001b[49m\u001b[43mheaders\u001b[49m\u001b[38;5;241;43m=\u001b[39;49m\u001b[43mheaders\u001b[49m\u001b[43m)\u001b[49m\u001b[43m)\u001b[49m\n",
      "File \u001b[1;32m~\\AppData\\Local\\Programs\\Python\\Python310\\lib\\site-packages\\google_play_scraper\\utils\\request.py:20\u001b[0m, in \u001b[0;36m_urlopen\u001b[1;34m(obj)\u001b[0m\n\u001b[0;32m     15\u001b[0m     \u001b[38;5;28;01melse\u001b[39;00m:\n\u001b[0;32m     16\u001b[0m         \u001b[38;5;28;01mraise\u001b[39;00m ExtraHTTPError(\n\u001b[0;32m     17\u001b[0m             \u001b[38;5;124m\"\u001b[39m\u001b[38;5;124mApp not found. Status code \u001b[39m\u001b[38;5;132;01m{}\u001b[39;00m\u001b[38;5;124m returned.\u001b[39m\u001b[38;5;124m\"\u001b[39m\u001b[38;5;241m.\u001b[39mformat(e\u001b[38;5;241m.\u001b[39mcode)\n\u001b[0;32m     18\u001b[0m         )\n\u001b[1;32m---> 20\u001b[0m \u001b[38;5;28;01mreturn\u001b[39;00m \u001b[43mresp\u001b[49m\u001b[38;5;241;43m.\u001b[39;49m\u001b[43mread\u001b[49m\u001b[43m(\u001b[49m\u001b[43m)\u001b[49m\u001b[38;5;241m.\u001b[39mdecode(\u001b[38;5;124m\"\u001b[39m\u001b[38;5;124mUTF-8\u001b[39m\u001b[38;5;124m\"\u001b[39m)\n",
      "File \u001b[1;32m~\\AppData\\Local\\Programs\\Python\\Python310\\lib\\http\\client.py:459\u001b[0m, in \u001b[0;36mHTTPResponse.read\u001b[1;34m(self, amt)\u001b[0m\n\u001b[0;32m    456\u001b[0m     \u001b[38;5;28;01mreturn\u001b[39;00m \u001b[38;5;124mb\u001b[39m\u001b[38;5;124m\"\u001b[39m\u001b[38;5;124m\"\u001b[39m\n\u001b[0;32m    458\u001b[0m \u001b[38;5;28;01mif\u001b[39;00m \u001b[38;5;28mself\u001b[39m\u001b[38;5;241m.\u001b[39mchunked:\n\u001b[1;32m--> 459\u001b[0m     \u001b[38;5;28;01mreturn\u001b[39;00m \u001b[38;5;28;43mself\u001b[39;49m\u001b[38;5;241;43m.\u001b[39;49m\u001b[43m_read_chunked\u001b[49m\u001b[43m(\u001b[49m\u001b[43mamt\u001b[49m\u001b[43m)\u001b[49m\n\u001b[0;32m    461\u001b[0m \u001b[38;5;28;01mif\u001b[39;00m amt \u001b[38;5;129;01mis\u001b[39;00m \u001b[38;5;129;01mnot\u001b[39;00m \u001b[38;5;28;01mNone\u001b[39;00m:\n\u001b[0;32m    462\u001b[0m     \u001b[38;5;28;01mif\u001b[39;00m \u001b[38;5;28mself\u001b[39m\u001b[38;5;241m.\u001b[39mlength \u001b[38;5;129;01mis\u001b[39;00m \u001b[38;5;129;01mnot\u001b[39;00m \u001b[38;5;28;01mNone\u001b[39;00m \u001b[38;5;129;01mand\u001b[39;00m amt \u001b[38;5;241m>\u001b[39m \u001b[38;5;28mself\u001b[39m\u001b[38;5;241m.\u001b[39mlength:\n\u001b[0;32m    463\u001b[0m         \u001b[38;5;66;03m# clip the read to the \"end of response\"\u001b[39;00m\n",
      "File \u001b[1;32m~\\AppData\\Local\\Programs\\Python\\Python310\\lib\\http\\client.py:597\u001b[0m, in \u001b[0;36mHTTPResponse._read_chunked\u001b[1;34m(self, amt)\u001b[0m\n\u001b[0;32m    595\u001b[0m     \u001b[38;5;28;01mreturn\u001b[39;00m \u001b[38;5;124mb\u001b[39m\u001b[38;5;124m'\u001b[39m\u001b[38;5;124m'\u001b[39m\u001b[38;5;241m.\u001b[39mjoin(value)\n\u001b[0;32m    596\u001b[0m \u001b[38;5;28;01mexcept\u001b[39;00m IncompleteRead:\n\u001b[1;32m--> 597\u001b[0m     \u001b[38;5;28;01mraise\u001b[39;00m IncompleteRead(\u001b[38;5;124mb\u001b[39m\u001b[38;5;124m'\u001b[39m\u001b[38;5;124m'\u001b[39m\u001b[38;5;241m.\u001b[39mjoin(value))\n",
      "\u001b[1;31mIncompleteRead\u001b[0m: IncompleteRead(0 bytes read)"
     ]
    }
   ],
   "source": [
    "from google_play_scraper import reviews_all\n",
    "import pandas as pd\n",
    "from deep_translator import GoogleTranslator\n",
    "from app_store_scraper import AppStore\n",
    "import numpy as np\n",
    "\n",
    "def PrepareDataForTranslation(reviews_dataframe):\n",
    "  global valueToFillForEmptyReviews\n",
    "  valueToFillForEmptyReviews = \"No review Comment\"\n",
    "  reviews_dataframe['Review'] = reviews_dataframe['Review'].fillna(valueToFillForEmptyReviews)\n",
    "  reviews_dataframe['Review'].str.replace('|', '')\n",
    "\n",
    "  splittedArray =[]\n",
    "  characterLength =0\n",
    "  arrayChunk =[]\n",
    "  for i in range(len( reviews_dataframe['Review'])):\n",
    "    characterLength = characterLength + len(reviews_dataframe['Review'][i])\n",
    "                                            \n",
    "    if characterLength > 3000 :\n",
    "        splittedArray.append(arrayChunk)\n",
    "        arrayChunk =[]\n",
    "        characterLength= len(reviews_dataframe['Review'][i])\n",
    "        arrayChunk.append(reviews_dataframe['Review'][i])\n",
    "                             \n",
    "    else:\n",
    "      arrayChunk.append(reviews_dataframe['Review'][i])\n",
    "\n",
    "    if i == len(reviews_dataframe['Review'])-1 :\n",
    "       splittedArray.append(arrayChunk)\n",
    "   \n",
    "  return splittedArray\n",
    "\n",
    "\n",
    "def TranslateReviewContent(splittedReviewList):\n",
    "  translatedReviews =[]\n",
    "  concatednatedReviewString=\"\"\n",
    "  for i in range(len(splittedReviewList)):\n",
    "     concatednatedReviewString = \"|\".join(splittedReviewList[i])\n",
    "     translatedValue = translator.translate(concatednatedReviewString, dest='en')\n",
    "     splittedTranslatedContent= translatedValue.split(\"|\")\n",
    "     translatedReviews = translatedReviews + splittedTranslatedContent\n",
    "  return translatedReviews\n",
    "\n",
    "\n",
    "def ExtractAndTranslateGoogleReviews(app):\n",
    "  googleReviewResult = reviews_all( app['googleId'], \n",
    "                       lang= app['googleLanguage'], \n",
    "                       country=app['googleCountry'], \n",
    "                       )\n",
    "\n",
    "  googleAppReviewsdf = pd.DataFrame(googleReviewResult)\n",
    "  googleAppReviewsdf.rename(columns = {'reviewId':'Review Id','userName':'User Name', 'content':'Review', 'score':'Rating', 'at':'Date of Review'}, inplace = True)\n",
    "  splittedReviewList = PrepareDataForTranslation(googleAppReviewsdf)\n",
    "  googleAppReviewsdf['Review'] = TranslateReviewContent(splittedReviewList);\n",
    "  googleAppReviewsdf['Review'].replace([valueToFillForEmptyReviews], '')\n",
    "  return googleAppReviewsdf\n",
    "\n",
    "def ExtractAndTranslateAppleReviews(app):\n",
    "  appleApp = AppStore(app_name=app['appStoreName'], app_id = app['appleAppId'], country=app['appleCountry'])\n",
    "  appleApp.review(how_many=2000)\n",
    "  appleAppReviewsdf = pd.DataFrame(appleApp.reviews)\n",
    "  appleAppReviewsdf.dropna(how='all')\n",
    "  appleAppReviewsdf.rename(columns = {'userName':'User Name', 'review':'Review', 'rating':'Rating', 'date':'Date of Review'}, inplace = True)\n",
    "  splittedAppleReviewList = PrepareDataForTranslation(appleAppReviewsdf)\n",
    "  appleAppReviewsdf['Review'] = TranslateReviewContent(splittedAppleReviewList);\n",
    "  appleAppReviewsdf['Review'].replace([valueToFillForEmptyReviews], '')\n",
    "  return appleAppReviewsdf\n",
    "\n",
    "\n",
    "\n",
    "\n",
    "\n",
    "emergencyApps = [{'appName': 'Emergency Plus','googleId': 'com.threesixtyentertainment.nesn', 'googleLanguage': 'en', 'googleCountry': 'us', \n",
    "                                    'appStoreName':'emergency-plus','appleAppId' : '691814685', 'appleCountry': 'au'},\n",
    "                  {'appName': 'Red Cross First Aid','googleId': 'com.cube.arc.fa', 'googleLanguage': 'en', 'googleCountry': 'us', \n",
    "                                    'appStoreName':'first-aid-american-red-cross','appleAppId' : '529160691', 'appleCountry': 'us'}\n",
    "]\n",
    "\n",
    "headers = [\"Review Id\", \"User Name\" ,\"Review\",\"Rating\", \"Date of Review\", \"reviewCreatedVersion\"] \n",
    "translator = GoogleTranslator(source='auto', target='en')\n",
    "\n",
    "for app in emergencyApps: \n",
    "  \n",
    "  googleAppReviewsdf = ExtractAndTranslateGoogleReviews(app)\n",
    "  appleAppReviewsdf = ExtractAndTranslateAppleReviews(app)\n",
    "\n",
    "  combinedReviewsdf = pd.concat([googleAppReviewsdf, appleAppReviewsdf])\n",
    "  combinedReviewsdf['Date of Review'] = combinedReviewsdf['Date of Review'].dt.date\n",
    "  combinedReviewsdf.to_csv(\"./data/Task 1/Result/\"+app['appName']+'.csv', index=None, columns = headers, header=True)\n",
    "\n",
    "  print(app['appName']+\".csv file is created sucessfully. Check the location data/Task 1/Result\")"
   ]
  },
  {
   "cell_type": "code",
   "execution_count": null,
   "metadata": {},
   "outputs": [],
   "source": []
  }
 ],
 "metadata": {
  "colab": {
   "provenance": []
  },
  "kernelspec": {
   "display_name": "Python 3 (ipykernel)",
   "language": "python",
   "name": "python3"
  },
  "language_info": {
   "codemirror_mode": {
    "name": "ipython",
    "version": 3
   },
   "file_extension": ".py",
   "mimetype": "text/x-python",
   "name": "python",
   "nbconvert_exporter": "python",
   "pygments_lexer": "ipython3",
   "version": "3.10.8"
  }
 },
 "nbformat": 4,
 "nbformat_minor": 1
}
