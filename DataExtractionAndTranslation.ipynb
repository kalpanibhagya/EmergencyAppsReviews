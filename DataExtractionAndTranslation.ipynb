{
  "nbformat": 4,
  "nbformat_minor": 0,
  "metadata": {
    "colab": {
      "provenance": []
    },
    "kernelspec": {
      "name": "python3",
      "display_name": "Python 3"
    },
    "language_info": {
      "name": "python"
    }
  },
  "cells": [
    {
      "cell_type": "markdown",
      "source": [
        "**Project 17: Analysis of Online Reviews of Emergency apps using NLP and Technology Acceptance Models (TAM).**\n",
        "\n",
        "In this project, we collect online reviews from Apple and Google Play stores from two emergency apps(Emergency Plus , First Aid: American Red Cross), to understand how users react to them.\n",
        "\n",
        "**Task 1 and Task 2 : Preprocessing**"
      ],
      "metadata": {
        "id": "dq71UuF5nSCY"
      }
    },
    {
      "cell_type": "code",
      "source": [
        "from google_play_scraper import reviews_all\n",
        "import pandas as pd\n",
        "from deep_translator import GoogleTranslator\n",
        "from app_store_scraper import AppStore\n",
        "import numpy as np\n",
        "\n",
        "def PrepareDataForTranslation(reviews_dataframe):\n",
        "  global valueToFillForEmptyReviews\n",
        "  valueToFillForEmptyReviews = \"No review Comment\"\n",
        "  reviews_dataframe['Review'] = reviews_dataframe['Review'].fillna(valueToFillForEmptyReviews)\n",
        "  reviews_dataframe['Review'].str.replace('|', '')\n",
        "\n",
        "  splittedArray =[]\n",
        "  characterLength =0\n",
        "  arrayChunk =[]\n",
        "  for i in range(len( reviews_dataframe['Review'])):\n",
        "    characterLength = characterLength + len(reviews_dataframe['Review'][i])\n",
        "                                            \n",
        "    if characterLength > 3000 :\n",
        "        splittedArray.append(arrayChunk)\n",
        "        arrayChunk =[]\n",
        "        characterLength= len(reviews_dataframe['Review'][i])\n",
        "        arrayChunk.append(reviews_dataframe['Review'][i])\n",
        "                             \n",
        "    else:\n",
        "      arrayChunk.append(reviews_dataframe['Review'][i])\n",
        "\n",
        "    if i == len(reviews_dataframe['Review'])-1 :\n",
        "       splittedArray.append(arrayChunk)\n",
        "   \n",
        "  return splittedArray\n",
        "\n",
        "\n",
        "def TranslateReviewContent(splittedReviewList):\n",
        "  translatedReviews =[]\n",
        "  concatednatedReviewString=\"\"\n",
        "  for i in range(len(splittedReviewList)):\n",
        "     concatednatedReviewString = \"|\".join(splittedReviewList[i])\n",
        "     translatedValue = translator.translate(concatednatedReviewString, dest='en')\n",
        "     splittedTranslatedContent= translatedValue.split(\"|\")\n",
        "     translatedReviews = translatedReviews + splittedTranslatedContent\n",
        "  return translatedReviews\n",
        "\n",
        "\n",
        "def ExtractAndTranslateGoogleReviews(app):\n",
        "  googleReviewResult = reviews_all( app['googleId'], \n",
        "                       lang= app['googleLanguage'], \n",
        "                       country=app['googleCountry'], \n",
        "                       )\n",
        "\n",
        "  googleAppReviewsdf = pd.DataFrame(googleReviewResult)\n",
        "  googleAppReviewsdf.rename(columns = {'reviewId':'Review Id','userName':'User Name', 'content':'Review', 'score':'Rating', 'at':'Date of Review'}, inplace = True)\n",
        "  splittedReviewList = PrepareDataForTranslation(googleAppReviewsdf)\n",
        "  googleAppReviewsdf['Review'] = TranslateReviewContent(splittedReviewList);\n",
        "  googleAppReviewsdf['Review'].replace([valueToFillForEmptyReviews], '')\n",
        "  return googleAppReviewsdf\n",
        "\n",
        "def ExtractAndTranslateAppleReviews(app):\n",
        "  appleApp = AppStore(app_name=app['appStoreName'], app_id = app['appleAppId'], country=app['appleCountry'])\n",
        "  appleApp.review(how_many=2000)\n",
        "  appleAppReviewsdf = pd.DataFrame(appleApp.reviews)\n",
        "  appleAppReviewsdf.dropna(how='all')\n",
        "  appleAppReviewsdf.rename(columns = {'userName':'User Name', 'review':'Review', 'rating':'Rating', 'date':'Date of Review'}, inplace = True)\n",
        "  splittedAppleReviewList = PrepareDataForTranslation(appleAppReviewsdf)\n",
        "  appleAppReviewsdf['Review'] = TranslateReviewContent(splittedAppleReviewList);\n",
        "  appleAppReviewsdf['Review'].replace([valueToFillForEmptyReviews], '')\n",
        "  return appleAppReviewsdf\n",
        "\n",
        "\n",
        "\n",
        "\n",
        "\n",
        "emergencyApps = [{'appName': 'Emergency Plus','googleId': 'com.threesixtyentertainment.nesn', 'googleLanguage': 'en', 'googleCountry': 'us', \n",
        "                                    'appStoreName':'emergency-plus','appleAppId' : '691814685', 'appleCountry': 'au'},\n",
        "                  {'appName': 'Red Cross First Aid','googleId': 'com.cube.arc.fa', 'googleLanguage': 'en', 'googleCountry': 'us', \n",
        "                                    'appStoreName':'first-aid-american-red-cross','appleAppId' : '529160691', 'appleCountry': 'us'}\n",
        "]\n",
        "\n",
        "headers = [\"Review Id\", \"User Name\" ,\"Review\",\"Rating\", \"Date of Review\", \"reviewCreatedVersion\"] \n",
        "translator = GoogleTranslator(source='auto', target='en')\n",
        "\n",
        "for app in emergencyApps: \n",
        "  \n",
        "  googleAppReviewsdf = ExtractAndTranslateGoogleReviews(app)\n",
        "  appleAppReviewsdf = ExtractAndTranslateAppleReviews(app)\n",
        "\n",
        "  combinedReviewsdf = pd.concat([googleAppReviewsdf, appleAppReviewsdf])\n",
        "  combinedReviewsdf['Date of Review'] = combinedReviewsdf['Date of Review'].dt.date\n",
        "  combinedReviewsdf.to_csv(app['appName']+'.csv', index=None, columns = headers, header=True)\n",
        "\n",
        "  print(app['appName']+\".csv file is created sucessfully. Check the files folder in left side bar. If you can't see yet refresh the folder.\")"
      ],
      "metadata": {
        "colab": {
          "base_uri": "https://localhost:8080/"
        },
        "id": "AVqX9nn1oKLM",
        "outputId": "15884a38-adc3-4c41-9ca9-88121b84f14f"
      },
      "execution_count": 4,
      "outputs": [
        {
          "output_type": "stream",
          "name": "stderr",
          "text": [
            "/usr/local/lib/python3.7/dist-packages/ipykernel_launcher.py:11: FutureWarning: The default value of regex will change from True to False in a future version. In addition, single character regular expressions will *not* be treated as literal strings when regex=True.\n",
            "  # This is added back by InteractiveShellApp.init_path()\n"
          ]
        },
        {
          "output_type": "stream",
          "name": "stdout",
          "text": [
            "Emergency Plus.csv file is created sucessfully. Check the files folder in left side bar. If you can't see yet refresh the folder.\n",
            "Red Cross First Aid.csv file is created sucessfully. Check the files folder in left side bar. If you can't see yet refresh the folder.\n"
          ]
        }
      ]
    }
  ]
}